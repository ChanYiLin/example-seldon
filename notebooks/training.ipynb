{
 "cells": [
  {
   "cell_type": "markdown",
   "metadata": {},
   "source": [
    "# Train Various Models on MNIST using kubeflow and seldon-core\n",
    "\n",
    "Using:\n",
    "\n",
    " * kubeflow\n",
    " * seldon-core\n",
    " \n",
    "The example will be the MNIST handwriiten digit classification task.\n",
    "\n",
    "![MNIST](mnist.png \"MNIST Digits\")\n",
    "\n",
    "### Dependencies\n",
    "\n",
    "  * Argo"
   ]
  },
  {
   "cell_type": "markdown",
   "metadata": {},
   "source": [
    "# Setup\n"
   ]
  },
  {
   "cell_type": "code",
   "execution_count": 1,
   "metadata": {},
   "outputs": [
    {
     "name": "stdout",
     "output_type": "stream",
     "text": [
      "Context \"my-kubeflow\" modified.\r\n"
     ]
    }
   ],
   "source": [
    "!kubectl config set-context $(kubectl config current-context) --namespace=kubeflow"
   ]
  },
  {
   "cell_type": "markdown",
   "metadata": {},
   "source": [
    "# Tensorflow Model\n",
    " A simple neural network in Tensorflow."
   ]
  },
  {
   "cell_type": "markdown",
   "metadata": {},
   "source": [
    "### Training\n",
    " * Create image from source\n",
    " * Run training\n",
    " \n",
    "\n",
    "Run with:\n",
    "  * ``` -p build-push-image=true``` to build image and push to repo, needed extra params:\n",
    "    * ``` -p version=<version>``` create ```<version>``` of model\n",
    "    * ``` -p github-user=<github-user>``` to download example-seldon source from ```<github-user>``` account\n",
    "    * ``` -p github-revision=<revision>``` to use the github branch ```<revision>```\n",
    "    * ``` -p docker-user=<docker-user>``` to use Docker user ```<docker-user>``` to push image to. Needs docker credentials in secret as described in README."
   ]
  },
  {
   "cell_type": "code",
   "execution_count": 5,
   "metadata": {},
   "outputs": [
    {
     "name": "stdout",
     "output_type": "stream",
     "text": [
      "apiVersion: argoproj.io/v1alpha1\r\n",
      "kind: Workflow\r\n",
      "metadata:\r\n",
      "  generateName: kubeflow-tf-train-\r\n",
      "spec:\r\n",
      "  entrypoint: workflow\r\n",
      "  arguments:\r\n",
      "    parameters:\r\n",
      "    - name: version\r\n",
      "      value: 0.1\r\n",
      "    - name: github-user\r\n",
      "      value: kubeflow\r\n",
      "    - name: github-revision\r\n",
      "      value: master\r\n",
      "    - name: docker-user\r\n",
      "      value: seldonio\r\n",
      "    - name: tfjob-version-hack\r\n",
      "      value: 1\r\n",
      "    - name: build-push-image\r\n",
      "      value: false\r\n",
      "  volumes:\r\n",
      "  - name: my-secret-vol\r\n",
      "    secret:\r\n",
      "      secretName: docker-credentials     \u001b[37m# name of an existing k8s secret\u001b[39;49;00m\r\n",
      "  templates:\r\n",
      "  - name: workflow\r\n",
      "    steps:\r\n",
      "    - - name: build-push \r\n",
      "        template: build-and-push\r\n",
      "        when: \u001b[33m\"\u001b[39;49;00m\u001b[33m{{workflow.parameters.build-push-image}}\u001b[39;49;00m\u001b[31m \u001b[39;49;00m\u001b[33m==\u001b[39;49;00m\u001b[31m \u001b[39;49;00m\u001b[33mtrue\u001b[39;49;00m\u001b[33m\"\u001b[39;49;00m\r\n",
      "    - - name: train\r\n",
      "        template: tfjob\r\n",
      "  - name: build-and-push\r\n",
      "    inputs:\r\n",
      "      artifacts:\r\n",
      "      - name: argo-source\r\n",
      "        path: /src/example-seldon\r\n",
      "        git:\r\n",
      "          repo: https://github.com/{{workflow.parameters.github-user}}/example-seldon.git\r\n",
      "          revision: \u001b[33m\"\u001b[39;49;00m\u001b[33m{{workflow.parameters.github-revision}}\u001b[39;49;00m\u001b[33m\"\u001b[39;49;00m\r\n",
      "    container:\r\n",
      "      image: docker:17.10\r\n",
      "      command: [\u001b[31msh\u001b[39;49;00m,\u001b[31m-c\u001b[39;49;00m]\r\n",
      "      args: [\u001b[33m\"\u001b[39;49;00m\u001b[33mcd\u001b[39;49;00m\u001b[31m \u001b[39;49;00m\u001b[33m/src/example-seldon/models/tf_mnist/train\u001b[39;49;00m\u001b[31m \u001b[39;49;00m\u001b[33m;\u001b[39;49;00m\u001b[31m \u001b[39;49;00m\u001b[33m./build_and_push.sh\u001b[39;49;00m\u001b[31m \u001b[39;49;00m\u001b[33m{{workflow.parameters.version}}\u001b[39;49;00m\u001b[31m \u001b[39;49;00m\u001b[33m{{workflow.parameters.docker-user}}\u001b[39;49;00m\u001b[33m\"\u001b[39;49;00m]\r\n",
      "      env:\r\n",
      "      - name: DOCKER_HOST               \u001b[37m#the docker daemon can be access on the standard port on localhost\u001b[39;49;00m\r\n",
      "        value: 127.0.0.1\r\n",
      "      - name: DOCKER_USERNAME  \u001b[37m# name of env var\u001b[39;49;00m\r\n",
      "        valueFrom:\r\n",
      "          secretKeyRef:\r\n",
      "            name: docker-credentials     \u001b[37m# name of an existing k8s secret\u001b[39;49;00m\r\n",
      "            key: username     \u001b[37m# 'key' subcomponent of the secret\u001b[39;49;00m\r\n",
      "      - name: DOCKER_PASSWORD  \u001b[37m# name of env var\u001b[39;49;00m\r\n",
      "        valueFrom:\r\n",
      "          secretKeyRef:\r\n",
      "            name: docker-credentials     \u001b[37m# name of an existing k8s secret\u001b[39;49;00m\r\n",
      "            key: password     \u001b[37m# 'key' subcomponent of the secret\u001b[39;49;00m\r\n",
      "      volumeMounts:\r\n",
      "      - name: my-secret-vol     \u001b[37m# mount file containing secret at /secret/mountpath\u001b[39;49;00m\r\n",
      "        mountPath: \u001b[33m\"\u001b[39;49;00m\u001b[33m/secret/mountpath\u001b[39;49;00m\u001b[33m\"\u001b[39;49;00m\r\n",
      "    sidecars:\r\n",
      "    - name: dind\r\n",
      "      image: docker:17.10-dind          \u001b[37m#Docker already provides an image for running a Docker daemon\u001b[39;49;00m\r\n",
      "      securityContext:\r\n",
      "        privileged: true                \u001b[37m#the Docker daemon can only run in a privileged container\u001b[39;49;00m\r\n",
      "      mirrorVolumeMounts: true\r\n",
      "  - name: tfjob\r\n",
      "    resource:                   \u001b[37m#indicates that this is a resource template\u001b[39;49;00m\r\n",
      "      action: create             \u001b[37m#can be any kubectl action (e.g. create, delete, apply, patch)\u001b[39;49;00m\r\n",
      "      successCondition: status.tfReplicaStatuses.Worker.succeeded == 1\r\n",
      "      manifest: |   \u001b[37m#put your kubernetes spec here\u001b[39;49;00m\r\n",
      "       \u001b[31mapiVersion: \"kubeflow.org/v1beta1\"\u001b[39;49;00m\r\n",
      "       \u001b[31mkind: \"TFJob\"\u001b[39;49;00m\r\n",
      "       \u001b[31mmetadata: \u001b[39;49;00m\r\n",
      "         \u001b[31mname: mnist-train-{{workflow.parameters.tfjob-version-hack}}\u001b[39;49;00m\r\n",
      "         \u001b[31mownerReferences:\u001b[39;49;00m\r\n",
      "         \u001b[31m- apiVersion: argoproj.io/v1alpha1\u001b[39;49;00m\r\n",
      "           \u001b[31mkind: Workflow\u001b[39;49;00m\r\n",
      "           \u001b[31mcontroller: true\u001b[39;49;00m\r\n",
      "           \u001b[31mname: kubeflow-train\u001b[39;49;00m\r\n",
      "           \u001b[31muid: {{workflow.uid}}\u001b[39;49;00m\r\n",
      "       \u001b[31mspec: \u001b[39;49;00m\r\n",
      "         \u001b[31mtfReplicaSpecs: \u001b[39;49;00m\r\n",
      "           \u001b[31mWorker: \u001b[39;49;00m\r\n",
      "             \u001b[31mreplicas: 1\u001b[39;49;00m\r\n",
      "             \u001b[31mtemplate: \u001b[39;49;00m\r\n",
      "               \u001b[31mspec: \u001b[39;49;00m\r\n",
      "                 \u001b[31mcontainers: \u001b[39;49;00m\r\n",
      "                   \u001b[31m- \u001b[39;49;00m\r\n",
      "                     \u001b[31mimage: \"{{workflow.parameters.docker-user}}/deepmnistclassifier_trainer:{{workflow.parameters.version}}\"\u001b[39;49;00m\r\n",
      "                     \u001b[31mname: \"tensorflow\"\u001b[39;49;00m\r\n",
      "                     \u001b[31mvolumeMounts: \u001b[39;49;00m\r\n",
      "                       \u001b[31m- \u001b[39;49;00m\r\n",
      "                         \u001b[31mmountPath: \"/data\"\u001b[39;49;00m\r\n",
      "                         \u001b[31mname: \"persistent-storage\"\u001b[39;49;00m\r\n",
      "                 \u001b[31mrestartPolicy: \"OnFailure\"\u001b[39;49;00m\r\n",
      "                 \u001b[31mvolumes: \u001b[39;49;00m\r\n",
      "                   \u001b[31m- \u001b[39;49;00m\r\n",
      "                     \u001b[31mname: \"persistent-storage\"\u001b[39;49;00m\r\n",
      "                     \u001b[31mpersistentVolumeClaim: \u001b[39;49;00m\r\n",
      "                       \u001b[31mclaimName: \"nfs-1\"\u001b[39;49;00m\r\n",
      "             \u001b[31mtfReplicaType: \"MASTER\"\u001b[39;49;00m\r\n"
     ]
    }
   ],
   "source": [
    "!pygmentize ../workflows/training-tf-mnist-workflow.yaml"
   ]
  },
  {
   "cell_type": "code",
   "execution_count": 8,
   "metadata": {},
   "outputs": [
    {
     "name": "stdout",
     "output_type": "stream",
     "text": [
      "Name:                kubeflow-tf-train-wx8xq\r\n",
      "Namespace:           kubeflow\r\n",
      "ServiceAccount:      default\r\n",
      "Status:              Pending\r\n",
      "Created:             Sat Jan 19 17:55:00 +0000 (now)\r\n",
      "Parameters:          \r\n",
      "  tfjob-version-hack: 1\r\n",
      "  version:           0.1\r\n",
      "  github-user:       kubeflow\r\n",
      "  github-revision:   master\r\n",
      "  docker-user:       seldonio\r\n",
      "  build-push-image:  false\r\n"
     ]
    }
   ],
   "source": [
    "!argo submit ../workflows/training-tf-mnist-workflow.yaml -p tfjob-version-hack=1"
   ]
  },
  {
   "cell_type": "code",
   "execution_count": 3,
   "metadata": {},
   "outputs": [
    {
     "name": "stdout",
     "output_type": "stream",
     "text": [
      "NAME                      STATUS    AGE   DURATION\r\n",
      "kubeflow-tf-train-2nqgz   Running   2s    2s \r\n"
     ]
    }
   ],
   "source": [
    "!argo list"
   ]
  },
  {
   "cell_type": "markdown",
   "metadata": {},
   "source": [
    "### Runtime Image\n",
    "\n",
    "Run with:\n",
    "  * ``` -p build-push-image=true``` to build image and push to repo, needed extra params:\n",
    "    * ``` -p version=<version>``` create ```<version>``` of model\n",
    "    * ``` -p github-user=<github-user>``` to download example-seldon source from ```<github-user>``` account\n",
    "    * ``` -p github-revision=<revision>``` to use the github branch ```<revision>```\n",
    "    * ``` -p docker-user=<docker-user>``` to use Docker user ```<docker-user>``` to push image to. Needs docker credentials in secret as described in README.\n",
    "  * ``` -p deploy-model=true``` to deploy model"
   ]
  },
  {
   "cell_type": "code",
   "execution_count": 5,
   "metadata": {},
   "outputs": [
    {
     "name": "stdout",
     "output_type": "stream",
     "text": [
      "apiVersion: argoproj.io/v1alpha1\r\n",
      "kind: Workflow\r\n",
      "metadata:\r\n",
      "  generateName: seldon-tf-deploy-\r\n",
      "spec:\r\n",
      "  entrypoint: workflow\r\n",
      "  arguments:\r\n",
      "    parameters:\r\n",
      "    - name: version\r\n",
      "      value: 0.1\r\n",
      "    - name: github-user\r\n",
      "      value: kubeflow\r\n",
      "    - name: github-revision\r\n",
      "      value: master\r\n",
      "    - name: docker-user\r\n",
      "      value: seldonio\r\n",
      "    - name: build-push-image\r\n",
      "      value: false\r\n",
      "    - name: deploy-model\r\n",
      "      value: false\r\n",
      "  volumes:\r\n",
      "  - name: my-secret-vol\r\n",
      "    secret:\r\n",
      "      secretName: docker-credentials     \u001b[37m# name of an existing k8s secret\u001b[39;49;00m\r\n",
      "  templates:\r\n",
      "  - name: workflow\r\n",
      "    steps:\r\n",
      "    - - name: build-push \r\n",
      "        template: build-and-push\r\n",
      "        when: \u001b[33m\"\u001b[39;49;00m\u001b[33m{{workflow.parameters.build-push-image}}\u001b[39;49;00m\u001b[31m \u001b[39;49;00m\u001b[33m==\u001b[39;49;00m\u001b[31m \u001b[39;49;00m\u001b[33mtrue\u001b[39;49;00m\u001b[33m\"\u001b[39;49;00m\r\n",
      "    - - name: serve\r\n",
      "        template: seldon\r\n",
      "        when: \u001b[33m\"\u001b[39;49;00m\u001b[33m{{workflow.parameters.deploy-model}}\u001b[39;49;00m\u001b[31m \u001b[39;49;00m\u001b[33m==\u001b[39;49;00m\u001b[31m \u001b[39;49;00m\u001b[33mtrue\u001b[39;49;00m\u001b[33m\"\u001b[39;49;00m\u001b[04m\u001b[31;01m\t\u001b[39;49;00m\r\n",
      "  - name: build-and-push\r\n",
      "    inputs:\r\n",
      "      artifacts:\r\n",
      "      - name: argo-source\r\n",
      "        path: /src/example-seldon\r\n",
      "        git:\r\n",
      "          repo: https://github.com/{{workflow.parameters.github-user}}/example-seldon.git\r\n",
      "          revision: \u001b[33m\"\u001b[39;49;00m\u001b[33m{{workflow.parameters.github-revision}}\u001b[39;49;00m\u001b[33m\"\u001b[39;49;00m\r\n",
      "    container:\r\n",
      "      image: docker:17.10\r\n",
      "      command: [\u001b[31msh\u001b[39;49;00m,\u001b[31m-c\u001b[39;49;00m]\r\n",
      "      args: [\u001b[33m\"\u001b[39;49;00m\u001b[33mcd\u001b[39;49;00m\u001b[31m \u001b[39;49;00m\u001b[33m/src/example-seldon/models/tf_mnist/runtime\u001b[39;49;00m\u001b[31m \u001b[39;49;00m\u001b[33m;\u001b[39;49;00m\u001b[31m \u001b[39;49;00m\u001b[33m./wrap.sh\u001b[39;49;00m\u001b[31m \u001b[39;49;00m\u001b[33m{{workflow.parameters.version}}\u001b[39;49;00m\u001b[31m \u001b[39;49;00m\u001b[33m{{workflow.parameters.docker-user}}\u001b[39;49;00m\u001b[33m\"\u001b[39;49;00m]\r\n",
      "      env:\r\n",
      "      - name: DOCKER_HOST               \u001b[37m#the docker daemon can be access on the standard port on localhost\u001b[39;49;00m\r\n",
      "        value: 127.0.0.1\r\n",
      "      - name: DOCKER_USERNAME  \u001b[37m# name of env var\u001b[39;49;00m\r\n",
      "        valueFrom:\r\n",
      "          secretKeyRef:\r\n",
      "            name: docker-credentials     \u001b[37m# name of an existing k8s secret\u001b[39;49;00m\r\n",
      "            key: username     \u001b[37m# 'key' subcomponent of the secret\u001b[39;49;00m\r\n",
      "      - name: DOCKER_PASSWORD  \u001b[37m# name of env var\u001b[39;49;00m\r\n",
      "        valueFrom:\r\n",
      "          secretKeyRef:\r\n",
      "            name: docker-credentials     \u001b[37m# name of an existing k8s secret\u001b[39;49;00m\r\n",
      "            key: password     \u001b[37m# 'key' subcomponent of the secret\u001b[39;49;00m\r\n",
      "      volumeMounts:\r\n",
      "      - name: my-secret-vol     \u001b[37m# mount file containing secret at /secret/mountpath\u001b[39;49;00m\r\n",
      "        mountPath: \u001b[33m\"\u001b[39;49;00m\u001b[33m/secret/mountpath\u001b[39;49;00m\u001b[33m\"\u001b[39;49;00m\r\n",
      "    sidecars:\r\n",
      "    - name: dind\r\n",
      "      image: docker:17.10-dind          \u001b[37m#Docker already provides an image for running a Docker daemon\u001b[39;49;00m\r\n",
      "      securityContext:\r\n",
      "        privileged: true                \u001b[37m#the Docker daemon can only run in a privileged container\u001b[39;49;00m\r\n",
      "      mirrorVolumeMounts: true\r\n",
      "  - name: seldon\r\n",
      "    resource:                   \u001b[37m#indicates that this is a resource template\u001b[39;49;00m\r\n",
      "      action: apply             \u001b[37m#can be any kubectl action (e.g. create, delete, apply, patch)\u001b[39;49;00m\r\n",
      "      \u001b[37m#successCondition: ? \u001b[39;49;00m\r\n",
      "      manifest: |   \u001b[37m#put your kubernetes spec here\u001b[39;49;00m\r\n",
      "       \u001b[31mapiVersion: \"machinelearning.seldon.io/v1alpha1\"\u001b[39;49;00m\r\n",
      "       \u001b[31mkind: \"SeldonDeployment\"\u001b[39;49;00m\r\n",
      "       \u001b[31mmetadata: \u001b[39;49;00m\r\n",
      "         \u001b[31mlabels: \u001b[39;49;00m\r\n",
      "           \u001b[31mapp: \"seldon\"\u001b[39;49;00m\r\n",
      "         \u001b[31mname: \"mnist-classifier\"\u001b[39;49;00m\r\n",
      "       \u001b[31mspec: \u001b[39;49;00m\r\n",
      "         \u001b[31mannotations: \u001b[39;49;00m\r\n",
      "           \u001b[31mdeployment_version: \"v1\"\u001b[39;49;00m\r\n",
      "           \u001b[31mproject_name: \"MNIST Example\"\u001b[39;49;00m\r\n",
      "         \u001b[31mname: \"mnist-classifier\"\u001b[39;49;00m\r\n",
      "         \u001b[31mpredictors: \u001b[39;49;00m\r\n",
      "           \u001b[31m- \u001b[39;49;00m\r\n",
      "             \u001b[31mannotations: \u001b[39;49;00m\r\n",
      "               \u001b[31mpredictor_version: \"v1\"\u001b[39;49;00m\r\n",
      "             \u001b[31mcomponentSpec: \u001b[39;49;00m\r\n",
      "               \u001b[31mspec: \u001b[39;49;00m\r\n",
      "                 \u001b[31mcontainers: \u001b[39;49;00m\r\n",
      "                   \u001b[31m- \u001b[39;49;00m\r\n",
      "                     \u001b[31mimage: \"{{workflow.parameters.docker-user}}/deepmnistclassifier_runtime:{{workflow.parameters.version}}\"\u001b[39;49;00m\r\n",
      "                     \u001b[31mimagePullPolicy: \"Always\"\u001b[39;49;00m\r\n",
      "                     \u001b[31mname: \"mnist-classifier\"\u001b[39;49;00m\r\n",
      "                     \u001b[31mvolumeMounts: \u001b[39;49;00m\r\n",
      "                       \u001b[31m- \u001b[39;49;00m\r\n",
      "                         \u001b[31mmountPath: \"/data\"\u001b[39;49;00m\r\n",
      "                         \u001b[31mname: \"persistent-storage\"\u001b[39;49;00m\r\n",
      "                 \u001b[31mterminationGracePeriodSeconds: 1\u001b[39;49;00m\r\n",
      "                 \u001b[31mvolumes: \u001b[39;49;00m\r\n",
      "                   \u001b[31m- \u001b[39;49;00m\r\n",
      "                     \u001b[31mname: \"persistent-storage\"\u001b[39;49;00m\r\n",
      "                     \u001b[31mvolumeSource: \u001b[39;49;00m\r\n",
      "                       \u001b[31mpersistentVolumeClaim: \u001b[39;49;00m\r\n",
      "                         \u001b[31mclaimName: \"nfs-1\"\u001b[39;49;00m\r\n",
      "             \u001b[31mgraph: \u001b[39;49;00m\r\n",
      "               \u001b[31mchildren: []\u001b[39;49;00m\r\n",
      "               \u001b[31mendpoint: \u001b[39;49;00m\r\n",
      "                 \u001b[31mtype: \"REST\"\u001b[39;49;00m\r\n",
      "               \u001b[31mname: \"mnist-classifier\"\u001b[39;49;00m\r\n",
      "               \u001b[31mtype: \"MODEL\"\u001b[39;49;00m\r\n",
      "             \u001b[31mname: \"mnist-classifier\"\u001b[39;49;00m\r\n",
      "             \u001b[31mreplicas: 1\u001b[39;49;00m\r\n"
     ]
    }
   ],
   "source": [
    "!pygmentize ../workflows/serving-tf-mnist-workflow.yaml"
   ]
  },
  {
   "cell_type": "code",
   "execution_count": 9,
   "metadata": {},
   "outputs": [
    {
     "name": "stdout",
     "output_type": "stream",
     "text": [
      "Name:                seldon-tf-deploy-ckr59\r\n",
      "Namespace:           kubeflow\r\n",
      "ServiceAccount:      default\r\n",
      "Status:              Pending\r\n",
      "Created:             Sat Jan 19 18:50:11 +0000 (now)\r\n",
      "Parameters:          \r\n",
      "  version:           0.1\r\n",
      "  github-user:       kubeflow\r\n",
      "  github-revision:   master\r\n",
      "  docker-user:       seldonio\r\n",
      "  build-push-image:  false\r\n",
      "  deploy-model:      false\r\n"
     ]
    }
   ],
   "source": [
    "!argo submit ../workflows/serving-tf-mnist-workflow.yaml"
   ]
  },
  {
   "cell_type": "code",
   "execution_count": 7,
   "metadata": {},
   "outputs": [
    {
     "name": "stdout",
     "output_type": "stream",
     "text": [
      "NAME                      STATUS      AGE   DURATION\r\n",
      "kubeflow-tf-train-kpsvp   Running     2s    2s \r\n",
      "seldon-tf-deploy-mvwwl    Succeeded   1s    0s\r\n"
     ]
    }
   ],
   "source": [
    "!argo list"
   ]
  },
  {
   "cell_type": "markdown",
   "metadata": {},
   "source": [
    "# Sklearn Model\n",
    "A Random forest in sklearn."
   ]
  },
  {
   "cell_type": "markdown",
   "metadata": {},
   "source": [
    "### Training\n",
    "\n",
    " * For options see above Tensorflow example"
   ]
  },
  {
   "cell_type": "code",
   "execution_count": 8,
   "metadata": {},
   "outputs": [
    {
     "name": "stdout",
     "output_type": "stream",
     "text": [
      "apiVersion: argoproj.io/v1alpha1\r\n",
      "kind: Workflow\r\n",
      "metadata:\r\n",
      "  generateName: kubeflow-sk-train-\r\n",
      "spec:\r\n",
      "  entrypoint: workflow\r\n",
      "  arguments:\r\n",
      "    parameters:\r\n",
      "    - name: version\r\n",
      "      value: 0.2\r\n",
      "    - name: github-user\r\n",
      "      value: kubeflow\r\n",
      "    - name: github-revision\r\n",
      "      value: master      \r\n",
      "    - name: docker-user\r\n",
      "      value: seldonio\r\n",
      "    - name: build-push-image\r\n",
      "      value: false      \r\n",
      "  volumes:\r\n",
      "  - name: my-secret-vol\r\n",
      "    secret:\r\n",
      "      secretName: docker-credentials     \u001b[37m# name of an existing k8s secret\u001b[39;49;00m\r\n",
      "  templates:\r\n",
      "  - name: workflow\r\n",
      "    steps:\r\n",
      "    - - name: build-push \r\n",
      "        template: build-and-push\r\n",
      "        when: \u001b[33m\"\u001b[39;49;00m\u001b[33m{{workflow.parameters.build-push-image}}\u001b[39;49;00m\u001b[31m \u001b[39;49;00m\u001b[33m==\u001b[39;49;00m\u001b[31m \u001b[39;49;00m\u001b[33mtrue\u001b[39;49;00m\u001b[33m\"\u001b[39;49;00m\r\n",
      "    - - name: train\r\n",
      "        template: tfjob\r\n",
      "  - name: build-and-push\r\n",
      "    inputs:\r\n",
      "      artifacts:\r\n",
      "      - name: argo-source\r\n",
      "        path: /src/example-seldon\r\n",
      "        git:\r\n",
      "          repo: https://github.com/{{workflow.parameters.github-user}}/example-seldon.git\r\n",
      "          revision: \u001b[33m\"\u001b[39;49;00m\u001b[33m{{workflow.parameters.github-revision}}\u001b[39;49;00m\u001b[33m\"\u001b[39;49;00m          \r\n",
      "    container:\r\n",
      "      image: docker:17.10\r\n",
      "      command: [\u001b[31msh\u001b[39;49;00m,\u001b[31m-c\u001b[39;49;00m]\r\n",
      "      args: [\u001b[33m\"\u001b[39;49;00m\u001b[33mcd\u001b[39;49;00m\u001b[31m \u001b[39;49;00m\u001b[33m/src/example-seldon/models/sk_mnist/train\u001b[39;49;00m\u001b[31m \u001b[39;49;00m\u001b[33m;\u001b[39;49;00m\u001b[31m \u001b[39;49;00m\u001b[33m./build_and_push.sh\u001b[39;49;00m\u001b[31m \u001b[39;49;00m\u001b[33m{{workflow.parameters.version}}\u001b[39;49;00m\u001b[31m \u001b[39;49;00m\u001b[33m{{workflow.parameters.docker-user}}\u001b[39;49;00m\u001b[33m\"\u001b[39;49;00m]\r\n",
      "      env:\r\n",
      "      - name: DOCKER_HOST               \u001b[37m#the docker daemon can be access on the standard port on localhost\u001b[39;49;00m\r\n",
      "        value: 127.0.0.1\r\n",
      "      - name: DOCKER_USERNAME  \u001b[37m# name of env var\u001b[39;49;00m\r\n",
      "        valueFrom:\r\n",
      "          secretKeyRef:\r\n",
      "            name: docker-credentials     \u001b[37m# name of an existing k8s secret\u001b[39;49;00m\r\n",
      "            key: username     \u001b[37m# 'key' subcomponent of the secret\u001b[39;49;00m\r\n",
      "      - name: DOCKER_PASSWORD  \u001b[37m# name of env var\u001b[39;49;00m\r\n",
      "        valueFrom:\r\n",
      "          secretKeyRef:\r\n",
      "            name: docker-credentials     \u001b[37m# name of an existing k8s secret\u001b[39;49;00m\r\n",
      "            key: password     \u001b[37m# 'key' subcomponent of the secret\u001b[39;49;00m\r\n",
      "      volumeMounts:\r\n",
      "      - name: my-secret-vol     \u001b[37m# mount file containing secret at /secret/mountpath\u001b[39;49;00m\r\n",
      "        mountPath: \u001b[33m\"\u001b[39;49;00m\u001b[33m/secret/mountpath\u001b[39;49;00m\u001b[33m\"\u001b[39;49;00m\r\n",
      "    sidecars:\r\n",
      "    - name: dind\r\n",
      "      image: docker:17.10-dind          \u001b[37m#Docker already provides an image for running a Docker daemon\u001b[39;49;00m\r\n",
      "      securityContext:\r\n",
      "        privileged: true                \u001b[37m#the Docker daemon can only run in a privileged container\u001b[39;49;00m\r\n",
      "      mirrorVolumeMounts: true\r\n",
      "  - name: tfjob\r\n",
      "    resource:                   \u001b[37m#indicates that this is a resource template\u001b[39;49;00m\r\n",
      "      action: create             \u001b[37m#can be any kubectl action (e.g. create, delete, apply, patch)\u001b[39;49;00m\r\n",
      "      successCondition: status.succeeded == 1\r\n",
      "      manifest: |   \u001b[37m#put your kubernetes spec here\u001b[39;49;00m\r\n",
      "       \u001b[31mapiVersion: \"batch/v1\"\u001b[39;49;00m\r\n",
      "       \u001b[31mkind: \"Job\"\u001b[39;49;00m\r\n",
      "       \u001b[31mmetadata: \u001b[39;49;00m\r\n",
      "         \u001b[31mname: \"sk-train\"\u001b[39;49;00m\r\n",
      "         \u001b[31mownerReferences:\u001b[39;49;00m\r\n",
      "         \u001b[31m- apiVersion: argoproj.io/v1alpha1\u001b[39;49;00m\r\n",
      "           \u001b[31mkind: Workflow\u001b[39;49;00m\r\n",
      "           \u001b[31mcontroller: true\u001b[39;49;00m\r\n",
      "           \u001b[31mname: kubeflow-train\u001b[39;49;00m\r\n",
      "           \u001b[31muid: {{workflow.uid}}\u001b[39;49;00m\r\n",
      "       \u001b[31mspec: \u001b[39;49;00m\r\n",
      "         \u001b[31mtemplate: \u001b[39;49;00m\r\n",
      "           \u001b[31mmetadata: \u001b[39;49;00m\r\n",
      "             \u001b[31mname: \"sk-train\"\u001b[39;49;00m\r\n",
      "           \u001b[31mspec: \u001b[39;49;00m\r\n",
      "             \u001b[31mcontainers: \u001b[39;49;00m\r\n",
      "               \u001b[31m- \u001b[39;49;00m\r\n",
      "                 \u001b[31mimage: \"{{workflow.parameters.docker-user}}/skmnistclassifier_trainer:{{workflow.parameters.version}}\"\u001b[39;49;00m\r\n",
      "                 \u001b[31mname: \"sk-train\"\u001b[39;49;00m\r\n",
      "                 \u001b[31mimagePullPolicy: Always\u001b[39;49;00m\r\n",
      "                 \u001b[31mvolumeMounts: \u001b[39;49;00m\r\n",
      "                   \u001b[31m- \u001b[39;49;00m\r\n",
      "                     \u001b[31mmountPath: \"/data\"\u001b[39;49;00m\r\n",
      "                     \u001b[31mname: \"persistent-storage\"\u001b[39;49;00m\r\n",
      "             \u001b[31mrestartPolicy: \"Never\"\u001b[39;49;00m\r\n",
      "             \u001b[31mvolumes: \u001b[39;49;00m\r\n",
      "               \u001b[31m- \u001b[39;49;00m\r\n",
      "                 \u001b[31mname: \"persistent-storage\"\u001b[39;49;00m\r\n",
      "                 \u001b[31mpersistentVolumeClaim: \u001b[39;49;00m\r\n",
      "                   \u001b[31mclaimName: \"nfs-1\"\u001b[39;49;00m\r\n"
     ]
    }
   ],
   "source": [
    "!pygmentize ../workflows/training-sk-mnist-workflow.yaml"
   ]
  },
  {
   "cell_type": "code",
   "execution_count": 10,
   "metadata": {},
   "outputs": [
    {
     "name": "stdout",
     "output_type": "stream",
     "text": [
      "Name:                kubeflow-sk-train-ch479\r\n",
      "Namespace:           kubeflow\r\n",
      "ServiceAccount:      default\r\n",
      "Status:              Pending\r\n",
      "Created:             Sat Jan 19 18:50:40 +0000 (1 second ago)\r\n",
      "Parameters:          \r\n",
      "  version:           0.2\r\n",
      "  github-user:       kubeflow\r\n",
      "  github-revision:   master\r\n",
      "  docker-user:       seldonio\r\n",
      "  build-push-image:  false\r\n"
     ]
    }
   ],
   "source": [
    "!argo submit ../workflows/training-sk-mnist-workflow.yaml"
   ]
  },
  {
   "cell_type": "code",
   "execution_count": 10,
   "metadata": {},
   "outputs": [
    {
     "name": "stdout",
     "output_type": "stream",
     "text": [
      "NAME                      STATUS      AGE   DURATION\r\n",
      "kubeflow-sk-train-z8x7n   Running     0s    0s\r\n",
      "kubeflow-tf-train-kpsvp   Running     3s    3s \r\n",
      "seldon-tf-deploy-mvwwl    Succeeded   2s    0s\r\n"
     ]
    }
   ],
   "source": [
    "!argo list"
   ]
  },
  {
   "cell_type": "markdown",
   "metadata": {},
   "source": [
    "### Runtime Image\n",
    " * For options see above Tensorflow example"
   ]
  },
  {
   "cell_type": "code",
   "execution_count": 11,
   "metadata": {},
   "outputs": [
    {
     "name": "stdout",
     "output_type": "stream",
     "text": [
      "\u001b[37m# This example demonstrates the use of a git repo as a hard-wired \u001b[39;49;00m\r\n",
      "\u001b[37m# input artifact. The argo repo is cloned to its target destination\u001b[39;49;00m\r\n",
      "\u001b[37m# at '/src' for the main container to consume.\u001b[39;49;00m\r\n",
      "apiVersion: argoproj.io/v1alpha1\r\n",
      "kind: Workflow\r\n",
      "metadata:\r\n",
      "  generateName: seldon-sk-deploy-\r\n",
      "spec:\r\n",
      "  entrypoint: workflow\r\n",
      "  arguments:\r\n",
      "    parameters:\r\n",
      "    - name: version\r\n",
      "      value: 0.1\r\n",
      "    - name: github-user\r\n",
      "      value: kubeflow\r\n",
      "    - name: github-revision\r\n",
      "      value: master\r\n",
      "    - name: docker-user\r\n",
      "      value: seldonio\r\n",
      "    - name: build-push-image\r\n",
      "      value: false\r\n",
      "    - name: deploy-model\r\n",
      "      value: false\r\n",
      "  volumes:\r\n",
      "  - name: my-secret-vol\r\n",
      "    secret:\r\n",
      "      secretName: docker-credentials     \u001b[37m# name of an existing k8s secret\u001b[39;49;00m\r\n",
      "  templates:\r\n",
      "  - name: workflow\r\n",
      "    steps:\r\n",
      "    - - name: build-push \r\n",
      "        template: build-and-push\r\n",
      "        when: \u001b[33m\"\u001b[39;49;00m\u001b[33m{{workflow.parameters.build-push-image}}\u001b[39;49;00m\u001b[31m \u001b[39;49;00m\u001b[33m==\u001b[39;49;00m\u001b[31m \u001b[39;49;00m\u001b[33mtrue\u001b[39;49;00m\u001b[33m\"\u001b[39;49;00m\r\n",
      "    - - name: serve\r\n",
      "        template: seldon\r\n",
      "        when: \u001b[33m\"\u001b[39;49;00m\u001b[33m{{workflow.parameters.deploy-model}}\u001b[39;49;00m\u001b[31m \u001b[39;49;00m\u001b[33m==\u001b[39;49;00m\u001b[31m \u001b[39;49;00m\u001b[33mtrue\u001b[39;49;00m\u001b[33m\"\u001b[39;49;00m\u001b[04m\u001b[31;01m\t\u001b[39;49;00m\u001b[04m\u001b[31;01m\t\u001b[39;49;00m\r\n",
      "  - name: build-and-push\r\n",
      "    inputs:\r\n",
      "      artifacts:\r\n",
      "      - name: argo-source\r\n",
      "        path: /src/example-seldon\r\n",
      "        git:\r\n",
      "          repo: https://github.com/{{workflow.parameters.github-user}}/example-seldon.git\r\n",
      "          revision: \u001b[33m\"\u001b[39;49;00m\u001b[33m{{workflow.parameters.github-revision}}\u001b[39;49;00m\u001b[33m\"\u001b[39;49;00m\r\n",
      "    container:\r\n",
      "      image: docker:17.10\r\n",
      "      command: [\u001b[31msh\u001b[39;49;00m,\u001b[31m-c\u001b[39;49;00m]\r\n",
      "      args: [\u001b[33m\"\u001b[39;49;00m\u001b[33mcd\u001b[39;49;00m\u001b[31m \u001b[39;49;00m\u001b[33m/src/example-seldon/models/sk_mnist/runtime\u001b[39;49;00m\u001b[31m \u001b[39;49;00m\u001b[33m;\u001b[39;49;00m\u001b[31m \u001b[39;49;00m\u001b[33m./wrap.sh\u001b[39;49;00m\u001b[31m \u001b[39;49;00m\u001b[33m{{workflow.parameters.version}}\u001b[39;49;00m\u001b[31m \u001b[39;49;00m\u001b[33m{{workflow.parameters.docker-user}}\u001b[39;49;00m\u001b[33m\"\u001b[39;49;00m]\r\n",
      "      env:\r\n",
      "      - name: DOCKER_HOST               \u001b[37m#the docker daemon can be access on the standard port on localhost\u001b[39;49;00m\r\n",
      "        value: 127.0.0.1\r\n",
      "      - name: DOCKER_USERNAME  \u001b[37m# name of env var\u001b[39;49;00m\r\n",
      "        valueFrom:\r\n",
      "          secretKeyRef:\r\n",
      "            name: docker-credentials     \u001b[37m# name of an existing k8s secret\u001b[39;49;00m\r\n",
      "            key: username     \u001b[37m# 'key' subcomponent of the secret\u001b[39;49;00m\r\n",
      "      - name: DOCKER_PASSWORD  \u001b[37m# name of env var\u001b[39;49;00m\r\n",
      "        valueFrom:\r\n",
      "          secretKeyRef:\r\n",
      "            name: docker-credentials     \u001b[37m# name of an existing k8s secret\u001b[39;49;00m\r\n",
      "            key: password     \u001b[37m# 'key' subcomponent of the secret\u001b[39;49;00m\r\n",
      "      volumeMounts:\r\n",
      "      - name: my-secret-vol     \u001b[37m# mount file containing secret at /secret/mountpath\u001b[39;49;00m\r\n",
      "        mountPath: \u001b[33m\"\u001b[39;49;00m\u001b[33m/secret/mountpath\u001b[39;49;00m\u001b[33m\"\u001b[39;49;00m\r\n",
      "    sidecars:\r\n",
      "    - name: dind\r\n",
      "      image: docker:17.10-dind          \u001b[37m#Docker already provides an image for running a Docker daemon\u001b[39;49;00m\r\n",
      "      securityContext:\r\n",
      "        privileged: true                \u001b[37m#the Docker daemon can only run in a privileged container\u001b[39;49;00m\r\n",
      "      \u001b[37m# mirrorVolumeMounts will mount the same volumes specified in the main container\u001b[39;49;00m\r\n",
      "      \u001b[37m# to the sidecar (including artifacts), at the same mountPaths. This enables\u001b[39;49;00m\r\n",
      "      \u001b[37m# dind daemon to (partially) see the same filesystem as the main container in\u001b[39;49;00m\r\n",
      "      \u001b[37m# order to use features such as docker volume binding.\u001b[39;49;00m\r\n",
      "      mirrorVolumeMounts: true\r\n",
      "  - name: seldon\r\n",
      "    resource:                   \u001b[37m#indicates that this is a resource template\u001b[39;49;00m\r\n",
      "      action: apply             \u001b[37m#can be any kubectl action (e.g. create, delete, apply, patch)\u001b[39;49;00m\r\n",
      "      \u001b[37m#successCondition: ? \u001b[39;49;00m\r\n",
      "      manifest: |   \u001b[37m#put your kubernetes spec here\u001b[39;49;00m\r\n",
      "       \u001b[31mapiVersion: \"machinelearning.seldon.io/v1alpha1\"\u001b[39;49;00m\r\n",
      "       \u001b[31mkind: \"SeldonDeployment\"\u001b[39;49;00m\r\n",
      "       \u001b[31mmetadata: \u001b[39;49;00m\r\n",
      "         \u001b[31mlabels: \u001b[39;49;00m\r\n",
      "           \u001b[31mapp: \"seldon\"\u001b[39;49;00m\r\n",
      "         \u001b[31mname: \"mnist-classifier\"\u001b[39;49;00m\r\n",
      "       \u001b[31mspec: \u001b[39;49;00m\r\n",
      "         \u001b[31mannotations: \u001b[39;49;00m\r\n",
      "           \u001b[31mdeployment_version: \"v1\"\u001b[39;49;00m\r\n",
      "           \u001b[31mproject_name: \"MNIST Example\"\u001b[39;49;00m\r\n",
      "         \u001b[31mname: \"mnist-classifier\"\u001b[39;49;00m\r\n",
      "         \u001b[31mpredictors: \u001b[39;49;00m\r\n",
      "           \u001b[31m- \u001b[39;49;00m\r\n",
      "             \u001b[31mannotations: \u001b[39;49;00m\r\n",
      "               \u001b[31mpredictor_version: \"v1\"\u001b[39;49;00m\r\n",
      "             \u001b[31mcomponentSpec: \u001b[39;49;00m\r\n",
      "               \u001b[31mspec: \u001b[39;49;00m\r\n",
      "                 \u001b[31mcontainers: \u001b[39;49;00m\r\n",
      "                   \u001b[31m- \u001b[39;49;00m\r\n",
      "                     \u001b[31mimage: \"{{workflow.parameters.docker-user}}/skmnistclassifier_runtime:{{workflow.parameters.version}}\"\u001b[39;49;00m\r\n",
      "                     \u001b[31mimagePullPolicy: \"Always\"\u001b[39;49;00m\r\n",
      "                     \u001b[31mname: \"mnist-classifier\"\u001b[39;49;00m\r\n",
      "                     \u001b[31mvolumeMounts: \u001b[39;49;00m\r\n",
      "                       \u001b[31m- \u001b[39;49;00m\r\n",
      "                         \u001b[31mmountPath: \"/data\"\u001b[39;49;00m\r\n",
      "                         \u001b[31mname: \"persistent-storage\"\u001b[39;49;00m\r\n",
      "                 \u001b[31mterminationGracePeriodSeconds: 1\u001b[39;49;00m\r\n",
      "                 \u001b[31mvolumes: \u001b[39;49;00m\r\n",
      "                   \u001b[31m- \u001b[39;49;00m\r\n",
      "                     \u001b[31mname: \"persistent-storage\"\u001b[39;49;00m\r\n",
      "                     \u001b[31mvolumeSource: \u001b[39;49;00m\r\n",
      "                       \u001b[31mpersistentVolumeClaim: \u001b[39;49;00m\r\n",
      "                         \u001b[31mclaimName: \"nfs-1\"\u001b[39;49;00m\r\n",
      "             \u001b[31mgraph: \u001b[39;49;00m\r\n",
      "               \u001b[31mchildren: []\u001b[39;49;00m\r\n",
      "               \u001b[31mendpoint: \u001b[39;49;00m\r\n",
      "                 \u001b[31mtype: \"REST\"\u001b[39;49;00m\r\n",
      "               \u001b[31mname: \"mnist-classifier\"\u001b[39;49;00m\r\n",
      "               \u001b[31mtype: \"MODEL\"\u001b[39;49;00m\r\n",
      "             \u001b[31mname: \"mnist-classifier\"\u001b[39;49;00m\r\n",
      "             \u001b[31mreplicas: 1\u001b[39;49;00m\r\n"
     ]
    }
   ],
   "source": [
    "!pygmentize ../workflows/serving-sk-mnist-workflow.yaml"
   ]
  },
  {
   "cell_type": "code",
   "execution_count": 12,
   "metadata": {},
   "outputs": [
    {
     "name": "stdout",
     "output_type": "stream",
     "text": [
      "Name:                seldon-sk-deploy-r8ghl\r\n",
      "Namespace:           kubeflow\r\n",
      "ServiceAccount:      default\r\n",
      "Status:              Pending\r\n",
      "Created:             Mon Nov 26 16:40:56 +0000 (now)\r\n",
      "Parameters:          \r\n",
      "  version:           0.1\r\n",
      "  github-user:       kubeflow\r\n",
      "  github-revision:   master\r\n",
      "  docker-user:       seldonio\r\n",
      "  build-push-image:  false\r\n",
      "  deploy-model:      false\r\n"
     ]
    }
   ],
   "source": [
    "!argo submit ../workflows/serving-sk-mnist-workflow.yaml"
   ]
  },
  {
   "cell_type": "code",
   "execution_count": 13,
   "metadata": {},
   "outputs": [
    {
     "name": "stdout",
     "output_type": "stream",
     "text": [
      "NAME                      STATUS      AGE   DURATION\r\n",
      "kubeflow-sk-train-z8x7n   Running     2s    2s \r\n",
      "kubeflow-tf-train-kpsvp   Running     5s    5s \r\n",
      "seldon-sk-deploy-r8ghl    Succeeded   1s    0s\r\n",
      "seldon-tf-deploy-mvwwl    Succeeded   4s    0s\r\n"
     ]
    }
   ],
   "source": [
    "!argo list"
   ]
  },
  {
   "cell_type": "markdown",
   "metadata": {},
   "source": [
    "# R Model\n",
    "A partial least squares model in R."
   ]
  },
  {
   "cell_type": "markdown",
   "metadata": {},
   "source": [
    "### Training\n",
    "\n",
    " * For options see above Tensorflow example"
   ]
  },
  {
   "cell_type": "code",
   "execution_count": 14,
   "metadata": {},
   "outputs": [
    {
     "name": "stdout",
     "output_type": "stream",
     "text": [
      "apiVersion: argoproj.io/v1alpha1\r\n",
      "kind: Workflow\r\n",
      "metadata:\r\n",
      "  generateName: kubeflow-r-train-\r\n",
      "spec:\r\n",
      "  entrypoint: workflow\r\n",
      "  arguments:\r\n",
      "    parameters:\r\n",
      "    - name: version\r\n",
      "      value: 0.1\r\n",
      "    - name: github-user\r\n",
      "      value: kubeflow\r\n",
      "    - name: github-revision\r\n",
      "      value: master      \r\n",
      "    - name: docker-user\r\n",
      "      value: seldonio\r\n",
      "    - name: build-push-image\r\n",
      "      value: false      \r\n",
      "  volumes:\r\n",
      "  - name: my-secret-vol\r\n",
      "    secret:\r\n",
      "      secretName: docker-credentials     \u001b[37m# name of an existing k8s secret\u001b[39;49;00m\r\n",
      "  templates:\r\n",
      "  - name: workflow\r\n",
      "    steps:\r\n",
      "    - - name: build-push \r\n",
      "        template: build-and-push\r\n",
      "        when: \u001b[33m\"\u001b[39;49;00m\u001b[33m{{workflow.parameters.build-push-image}}\u001b[39;49;00m\u001b[31m \u001b[39;49;00m\u001b[33m==\u001b[39;49;00m\u001b[31m \u001b[39;49;00m\u001b[33mtrue\u001b[39;49;00m\u001b[33m\"\u001b[39;49;00m\r\n",
      "    - - name: train\r\n",
      "        template: tfjob\r\n",
      "  - name: build-and-push\r\n",
      "    inputs:\r\n",
      "      artifacts:\r\n",
      "      - name: argo-source\r\n",
      "        path: /src/example-seldon\r\n",
      "        git:\r\n",
      "          repo: https://github.com/{{workflow.parameters.github-user}}/example-seldon.git\r\n",
      "          revision: \u001b[33m\"\u001b[39;49;00m\u001b[33m{{workflow.parameters.github-revision}}\u001b[39;49;00m\u001b[33m\"\u001b[39;49;00m          \r\n",
      "    container:\r\n",
      "      image: docker:17.10\r\n",
      "      command: [\u001b[31msh\u001b[39;49;00m,\u001b[31m-c\u001b[39;49;00m]\r\n",
      "      args: [\u001b[33m\"\u001b[39;49;00m\u001b[33mcd\u001b[39;49;00m\u001b[31m \u001b[39;49;00m\u001b[33m/src/example-seldon/models/r_mnist/train\u001b[39;49;00m\u001b[31m \u001b[39;49;00m\u001b[33m;\u001b[39;49;00m\u001b[31m \u001b[39;49;00m\u001b[33m./build_and_push.sh\u001b[39;49;00m\u001b[31m \u001b[39;49;00m\u001b[33m{{workflow.parameters.version}}\u001b[39;49;00m\u001b[31m \u001b[39;49;00m\u001b[33m{{workflow.parameters.docker-user}}\u001b[39;49;00m\u001b[33m\"\u001b[39;49;00m]\r\n",
      "      env:\r\n",
      "      - name: DOCKER_HOST               \u001b[37m#the docker daemon can be access on the standard port on localhost\u001b[39;49;00m\r\n",
      "        value: 127.0.0.1\r\n",
      "      - name: DOCKER_USERNAME  \u001b[37m# name of env var\u001b[39;49;00m\r\n",
      "        valueFrom:\r\n",
      "          secretKeyRef:\r\n",
      "            name: docker-credentials     \u001b[37m# name of an existing k8s secret\u001b[39;49;00m\r\n",
      "            key: username     \u001b[37m# 'key' subcomponent of the secret\u001b[39;49;00m\r\n",
      "      - name: DOCKER_PASSWORD  \u001b[37m# name of env var\u001b[39;49;00m\r\n",
      "        valueFrom:\r\n",
      "          secretKeyRef:\r\n",
      "            name: docker-credentials     \u001b[37m# name of an existing k8s secret\u001b[39;49;00m\r\n",
      "            key: password     \u001b[37m# 'key' subcomponent of the secret\u001b[39;49;00m\r\n",
      "      volumeMounts:\r\n",
      "      - name: my-secret-vol     \u001b[37m# mount file containing secret at /secret/mountpath\u001b[39;49;00m\r\n",
      "        mountPath: \u001b[33m\"\u001b[39;49;00m\u001b[33m/secret/mountpath\u001b[39;49;00m\u001b[33m\"\u001b[39;49;00m\r\n",
      "    sidecars:\r\n",
      "    - name: dind\r\n",
      "      image: docker:17.10-dind          \u001b[37m#Docker already provides an image for running a Docker daemon\u001b[39;49;00m\r\n",
      "      securityContext:\r\n",
      "        privileged: true                \u001b[37m#the Docker daemon can only run in a privileged container\u001b[39;49;00m\r\n",
      "      mirrorVolumeMounts: true\r\n",
      "  - name: tfjob\r\n",
      "    resource:                   \u001b[37m#indicates that this is a resource template\u001b[39;49;00m\r\n",
      "      action: create             \u001b[37m#can be any kubectl action (e.g. create, delete, apply, patch)\u001b[39;49;00m\r\n",
      "      successCondition: status.succeeded == 1\r\n",
      "      manifest: |   \u001b[37m#put your kubernetes spec here\u001b[39;49;00m\r\n",
      "       \u001b[31mapiVersion: \"batch/v1\"\u001b[39;49;00m\r\n",
      "       \u001b[31mkind: \"Job\"\u001b[39;49;00m\r\n",
      "       \u001b[31mmetadata: \u001b[39;49;00m\r\n",
      "         \u001b[31mname: \"r-train\"\u001b[39;49;00m\r\n",
      "         \u001b[31mownerReferences:\u001b[39;49;00m\r\n",
      "         \u001b[31m- apiVersion: argoproj.io/v1alpha1\u001b[39;49;00m\r\n",
      "           \u001b[31mkind: Workflow\u001b[39;49;00m\r\n",
      "           \u001b[31mcontroller: true\u001b[39;49;00m\r\n",
      "           \u001b[31mname: kubeflow-train\u001b[39;49;00m\r\n",
      "           \u001b[31muid: {{workflow.uid}}\u001b[39;49;00m\r\n",
      "       \u001b[31mspec: \u001b[39;49;00m\r\n",
      "         \u001b[31mtemplate: \u001b[39;49;00m\r\n",
      "           \u001b[31mmetadata: \u001b[39;49;00m\r\n",
      "             \u001b[31mname: \"r-train\"\u001b[39;49;00m\r\n",
      "           \u001b[31mspec: \u001b[39;49;00m\r\n",
      "             \u001b[31mcontainers: \u001b[39;49;00m\r\n",
      "               \u001b[31m- \u001b[39;49;00m\r\n",
      "                 \u001b[31mimage: \"{{workflow.parameters.docker-user}}/rmnistclassifier_trainer:{{workflow.parameters.version}}\"\u001b[39;49;00m\r\n",
      "                 \u001b[31mname: \"r-train\"\u001b[39;49;00m\r\n",
      "                 \u001b[31mvolumeMounts: \u001b[39;49;00m\r\n",
      "                   \u001b[31m- \u001b[39;49;00m\r\n",
      "                     \u001b[31mmountPath: \"/data\"\u001b[39;49;00m\r\n",
      "                     \u001b[31mname: \"persistent-storage\"\u001b[39;49;00m\r\n",
      "             \u001b[31mrestartPolicy: \"Never\"\u001b[39;49;00m\r\n",
      "             \u001b[31mvolumes: \u001b[39;49;00m\r\n",
      "               \u001b[31m- \u001b[39;49;00m\r\n",
      "                 \u001b[31mname: \"persistent-storage\"\u001b[39;49;00m\r\n",
      "                 \u001b[31mpersistentVolumeClaim: \u001b[39;49;00m\r\n",
      "                   \u001b[31mclaimName: \"nfs-1\"\u001b[39;49;00m\r\n"
     ]
    }
   ],
   "source": [
    "!pygmentize ../workflows/training-r-mnist-workflow.yaml"
   ]
  },
  {
   "cell_type": "code",
   "execution_count": 11,
   "metadata": {},
   "outputs": [
    {
     "name": "stdout",
     "output_type": "stream",
     "text": [
      "Name:                kubeflow-r-train-q72r6\r\n",
      "Namespace:           kubeflow\r\n",
      "ServiceAccount:      default\r\n",
      "Status:              Pending\r\n",
      "Created:             Sun Jan 20 09:08:44 +0000 (now)\r\n",
      "Parameters:          \r\n",
      "  version:           0.1\r\n",
      "  github-user:       kubeflow\r\n",
      "  github-revision:   master\r\n",
      "  docker-user:       seldonio\r\n",
      "  build-push-image:  false\r\n"
     ]
    }
   ],
   "source": [
    "!argo submit ../workflows/training-r-mnist-workflow.yaml"
   ]
  },
  {
   "cell_type": "code",
   "execution_count": 16,
   "metadata": {},
   "outputs": [
    {
     "name": "stdout",
     "output_type": "stream",
     "text": [
      "NAME                      STATUS      AGE   DURATION\r\n",
      "kubeflow-r-train-7fwb6    Running     0s    0s\r\n",
      "kubeflow-sk-train-z8x7n   Running     3s    3s \r\n",
      "kubeflow-tf-train-kpsvp   Running     6s    6s \r\n",
      "seldon-sk-deploy-r8ghl    Succeeded   2s    0s\r\n",
      "seldon-tf-deploy-mvwwl    Succeeded   5s    0s\r\n"
     ]
    }
   ],
   "source": [
    "!argo list"
   ]
  },
  {
   "cell_type": "markdown",
   "metadata": {},
   "source": [
    "### Runtime Image\n",
    " * For options see above Tensorflow example"
   ]
  },
  {
   "cell_type": "code",
   "execution_count": 17,
   "metadata": {},
   "outputs": [
    {
     "name": "stdout",
     "output_type": "stream",
     "text": [
      "\u001b[37m# This example demonstrates the use of a git repo as a hard-wired \u001b[39;49;00m\r\n",
      "\u001b[37m# input artifact. The argo repo is cloned to its target destination\u001b[39;49;00m\r\n",
      "\u001b[37m# at '/src' for the main container to consume.\u001b[39;49;00m\r\n",
      "apiVersion: argoproj.io/v1alpha1\r\n",
      "kind: Workflow\r\n",
      "metadata:\r\n",
      "  generateName: seldon-r-deploy-\r\n",
      "spec:\r\n",
      "  entrypoint: workflow\r\n",
      "  arguments:\r\n",
      "    parameters:\r\n",
      "    - name: version\r\n",
      "      value: 0.1\r\n",
      "    - name: github-user\r\n",
      "      value: kubeflow\r\n",
      "    - name: github-revision\r\n",
      "      value: master\r\n",
      "    - name: docker-user\r\n",
      "      value: seldonio\r\n",
      "    - name: build-push-image\r\n",
      "      value: false\r\n",
      "    - name: deploy-model\r\n",
      "      value: false\r\n",
      "  volumes:\r\n",
      "  - name: my-secret-vol\r\n",
      "    secret:\r\n",
      "      secretName: docker-credentials     \u001b[37m# name of an existing k8s secret\u001b[39;49;00m\r\n",
      "  templates:\r\n",
      "  - name: workflow\r\n",
      "    steps:\r\n",
      "    - - name: build-push \r\n",
      "        template: build-and-push\r\n",
      "        when: \u001b[33m\"\u001b[39;49;00m\u001b[33m{{workflow.parameters.build-push-image}}\u001b[39;49;00m\u001b[31m \u001b[39;49;00m\u001b[33m==\u001b[39;49;00m\u001b[31m \u001b[39;49;00m\u001b[33mtrue\u001b[39;49;00m\u001b[33m\"\u001b[39;49;00m\r\n",
      "    - - name: serve\r\n",
      "        template: seldon\r\n",
      "        when: \u001b[33m\"\u001b[39;49;00m\u001b[33m{{workflow.parameters.deploy-model}}\u001b[39;49;00m\u001b[31m \u001b[39;49;00m\u001b[33m==\u001b[39;49;00m\u001b[31m \u001b[39;49;00m\u001b[33mtrue\u001b[39;49;00m\u001b[33m\"\u001b[39;49;00m\u001b[04m\u001b[31;01m\t\u001b[39;49;00m\u001b[04m\u001b[31;01m\t\u001b[39;49;00m\u001b[04m\u001b[31;01m\t\u001b[39;49;00m\r\n",
      "  - name: build-and-push\r\n",
      "    inputs:\r\n",
      "      artifacts:\r\n",
      "      - name: argo-source\r\n",
      "        path: /src/example-seldon\r\n",
      "        git:\r\n",
      "          repo: https://github.com/{{workflow.parameters.github-user}}/example-seldon.git\r\n",
      "          revision: \u001b[33m\"\u001b[39;49;00m\u001b[33m{{workflow.parameters.github-revision}}\u001b[39;49;00m\u001b[33m\"\u001b[39;49;00m\r\n",
      "    container:\r\n",
      "      image: docker:17.10\r\n",
      "      command: [\u001b[31msh\u001b[39;49;00m,\u001b[31m-c\u001b[39;49;00m]\r\n",
      "      args: [\u001b[33m\"\u001b[39;49;00m\u001b[33mcd\u001b[39;49;00m\u001b[31m \u001b[39;49;00m\u001b[33m/src/example-seldon/models/r_mnist/runtime\u001b[39;49;00m\u001b[31m \u001b[39;49;00m\u001b[33m;\u001b[39;49;00m\u001b[31m \u001b[39;49;00m\u001b[33m./wrap.sh\u001b[39;49;00m\u001b[31m \u001b[39;49;00m\u001b[33m{{workflow.parameters.version}}\u001b[39;49;00m\u001b[31m \u001b[39;49;00m\u001b[33m{{workflow.parameters.docker-user}}\u001b[39;49;00m\u001b[33m\"\u001b[39;49;00m]\r\n",
      "      env:\r\n",
      "      - name: DOCKER_HOST               \u001b[37m#the docker daemon can be access on the standard port on localhost\u001b[39;49;00m\r\n",
      "        value: 127.0.0.1\r\n",
      "      - name: DOCKER_USERNAME  \u001b[37m# name of env var\u001b[39;49;00m\r\n",
      "        valueFrom:\r\n",
      "          secretKeyRef:\r\n",
      "            name: docker-credentials     \u001b[37m# name of an existing k8s secret\u001b[39;49;00m\r\n",
      "            key: username     \u001b[37m# 'key' subcomponent of the secret\u001b[39;49;00m\r\n",
      "      - name: DOCKER_PASSWORD  \u001b[37m# name of env var\u001b[39;49;00m\r\n",
      "        valueFrom:\r\n",
      "          secretKeyRef:\r\n",
      "            name: docker-credentials     \u001b[37m# name of an existing k8s secret\u001b[39;49;00m\r\n",
      "            key: password     \u001b[37m# 'key' subcomponent of the secret\u001b[39;49;00m\r\n",
      "      volumeMounts:\r\n",
      "      - name: my-secret-vol     \u001b[37m# mount file containing secret at /secret/mountpath\u001b[39;49;00m\r\n",
      "        mountPath: \u001b[33m\"\u001b[39;49;00m\u001b[33m/secret/mountpath\u001b[39;49;00m\u001b[33m\"\u001b[39;49;00m\r\n",
      "    sidecars:\r\n",
      "    - name: dind\r\n",
      "      image: docker:17.10-dind          \u001b[37m#Docker already provides an image for running a Docker daemon\u001b[39;49;00m\r\n",
      "      securityContext:\r\n",
      "        privileged: true                \u001b[37m#the Docker daemon can only run in a privileged container\u001b[39;49;00m\r\n",
      "      \u001b[37m# mirrorVolumeMounts will mount the same volumes specified in the main container\u001b[39;49;00m\r\n",
      "      \u001b[37m# to the sidecar (including artifacts), at the same mountPaths. This enables\u001b[39;49;00m\r\n",
      "      \u001b[37m# dind daemon to (partially) see the same filesystem as the main container in\u001b[39;49;00m\r\n",
      "      \u001b[37m# order to use features such as docker volume binding.\u001b[39;49;00m\r\n",
      "      mirrorVolumeMounts: true\r\n",
      "  - name: seldon\r\n",
      "    resource:                   \u001b[37m#indicates that this is a resource template\u001b[39;49;00m\r\n",
      "      action: apply             \u001b[37m#can be any kubectl action (e.g. create, delete, apply, patch)\u001b[39;49;00m\r\n",
      "      \u001b[37m#successCondition: ? \u001b[39;49;00m\r\n",
      "      manifest: |   \u001b[37m#put your kubernetes spec here\u001b[39;49;00m\r\n",
      "       \u001b[31mapiVersion: \"machinelearning.seldon.io/v1alpha1\"\u001b[39;49;00m\r\n",
      "       \u001b[31mkind: \"SeldonDeployment\"\u001b[39;49;00m\r\n",
      "       \u001b[31mmetadata: \u001b[39;49;00m\r\n",
      "         \u001b[31mlabels: \u001b[39;49;00m\r\n",
      "           \u001b[31mapp: \"seldon\"\u001b[39;49;00m\r\n",
      "         \u001b[31mname: \"mnist-classifier\"\u001b[39;49;00m\r\n",
      "       \u001b[31mspec: \u001b[39;49;00m\r\n",
      "         \u001b[31mannotations: \u001b[39;49;00m\r\n",
      "           \u001b[31mdeployment_version: \"v1\"\u001b[39;49;00m\r\n",
      "           \u001b[31mproject_name: \"MNIST Example\"\u001b[39;49;00m\r\n",
      "         \u001b[31mname: \"mnist-classifier\"\u001b[39;49;00m\r\n",
      "         \u001b[31mpredictors: \u001b[39;49;00m\r\n",
      "           \u001b[31m- \u001b[39;49;00m\r\n",
      "             \u001b[31mannotations: \u001b[39;49;00m\r\n",
      "               \u001b[31mpredictor_version: \"v1\"\u001b[39;49;00m\r\n",
      "             \u001b[31mcomponentSpec: \u001b[39;49;00m\r\n",
      "               \u001b[31mspec: \u001b[39;49;00m\r\n",
      "                 \u001b[31mcontainers: \u001b[39;49;00m\r\n",
      "                   \u001b[31m- \u001b[39;49;00m\r\n",
      "                     \u001b[31mimage: \"{{workflow.parameters.docker-user}}/rmnistclassifier_runtime:{{workflow.parameters.version}}\"\u001b[39;49;00m\r\n",
      "                     \u001b[31mimagePullPolicy: \"Always\"\u001b[39;49;00m\r\n",
      "                     \u001b[31mname: \"mnist-classifier\"\u001b[39;49;00m\r\n",
      "                     \u001b[31mvolumeMounts: \u001b[39;49;00m\r\n",
      "                       \u001b[31m- \u001b[39;49;00m\r\n",
      "                         \u001b[31mmountPath: \"/data\"\u001b[39;49;00m\r\n",
      "                         \u001b[31mname: \"persistent-storage\"\u001b[39;49;00m\r\n",
      "                 \u001b[31mterminationGracePeriodSeconds: 1\u001b[39;49;00m\r\n",
      "                 \u001b[31mvolumes: \u001b[39;49;00m\r\n",
      "                   \u001b[31m- \u001b[39;49;00m\r\n",
      "                     \u001b[31mname: \"persistent-storage\"\u001b[39;49;00m\r\n",
      "                     \u001b[31mvolumeSource: \u001b[39;49;00m\r\n",
      "                       \u001b[31mpersistentVolumeClaim: \u001b[39;49;00m\r\n",
      "                         \u001b[31mclaimName: \"nfs-1\"\u001b[39;49;00m\r\n",
      "             \u001b[31mgraph: \u001b[39;49;00m\r\n",
      "               \u001b[31mchildren: []\u001b[39;49;00m\r\n",
      "               \u001b[31mendpoint: \u001b[39;49;00m\r\n",
      "                 \u001b[31mtype: \"REST\"\u001b[39;49;00m\r\n",
      "               \u001b[31mname: \"mnist-classifier\"\u001b[39;49;00m\r\n",
      "               \u001b[31mtype: \"MODEL\"\u001b[39;49;00m\r\n",
      "             \u001b[31mname: \"mnist-classifier\"\u001b[39;49;00m\r\n",
      "             \u001b[31mreplicas: 1\u001b[39;49;00m\r\n"
     ]
    }
   ],
   "source": [
    "!pygmentize ../workflows/serving-r-mnist-workflow.yaml"
   ]
  },
  {
   "cell_type": "code",
   "execution_count": 18,
   "metadata": {},
   "outputs": [
    {
     "name": "stdout",
     "output_type": "stream",
     "text": [
      "Name:                seldon-r-deploy-hvww9\r\n",
      "Namespace:           kubeflow\r\n",
      "ServiceAccount:      default\r\n",
      "Status:              Pending\r\n",
      "Created:             Mon Nov 26 16:40:59 +0000 (now)\r\n",
      "Parameters:          \r\n",
      "  version:           0.1\r\n",
      "  github-user:       kubeflow\r\n",
      "  github-revision:   master\r\n",
      "  docker-user:       seldonio\r\n",
      "  build-push-image:  false\r\n",
      "  deploy-model:      false\r\n"
     ]
    }
   ],
   "source": [
    "!argo submit ../workflows/serving-r-mnist-workflow.yaml"
   ]
  },
  {
   "cell_type": "code",
   "execution_count": 19,
   "metadata": {},
   "outputs": [
    {
     "name": "stdout",
     "output_type": "stream",
     "text": [
      "NAME                      STATUS      AGE   DURATION\r\n",
      "kubeflow-r-train-7fwb6    Running     2s    2s \r\n",
      "kubeflow-sk-train-z8x7n   Running     5s    5s \r\n",
      "kubeflow-tf-train-kpsvp   Running     8s    8s \r\n",
      "seldon-r-deploy-hvww9     Succeeded   1s    0s\r\n",
      "seldon-sk-deploy-r8ghl    Succeeded   4s    0s\r\n",
      "seldon-tf-deploy-mvwwl    Succeeded   7s    0s\r\n"
     ]
    }
   ],
   "source": [
    "!argo list"
   ]
  },
  {
   "cell_type": "code",
   "execution_count": null,
   "metadata": {},
   "outputs": [],
   "source": []
  }
 ],
 "metadata": {
  "kernelspec": {
   "display_name": "Python 3",
   "language": "python",
   "name": "python3"
  },
  "language_info": {
   "codemirror_mode": {
    "name": "ipython",
    "version": 3
   },
   "file_extension": ".py",
   "mimetype": "text/x-python",
   "name": "python",
   "nbconvert_exporter": "python",
   "pygments_lexer": "ipython3",
   "version": "3.6.4"
  }
 },
 "nbformat": 4,
 "nbformat_minor": 1
}
